{
  "nbformat": 4,
  "nbformat_minor": 0,
  "metadata": {
    "colab": {
      "provenance": [],
      "authorship_tag": "ABX9TyMGaCIGHrnR2TMicTooL5pA"
    },
    "kernelspec": {
      "name": "python3",
      "display_name": "Python 3"
    },
    "language_info": {
      "name": "python"
    }
  },
  "cells": [
    {
      "cell_type": "code",
      "execution_count": 4,
      "metadata": {
        "colab": {
          "base_uri": "https://localhost:8080/"
        },
        "id": "k3UfwNU0mP9U",
        "outputId": "e5d7c22a-6682-4d2d-a6a4-f60362306984"
      },
      "outputs": [
        {
          "output_type": "stream",
          "name": "stdout",
          "text": [
            "Requirement already satisfied: colorthief in /usr/local/lib/python3.10/dist-packages (0.2.1)\n",
            "Requirement already satisfied: Pillow in /usr/local/lib/python3.10/dist-packages (from colorthief) (9.4.0)\n",
            "Color del contorno de la prenda: (238, 227, 222)\n"
          ]
        }
      ],
      "source": [
        "!pip install colorthief\n",
        "\n",
        "import cv2\n",
        "import numpy as np\n",
        "from colorthief import ColorThief\n",
        "\n",
        "def get_contour_color(image_path):\n",
        "    # Lee la imagen\n",
        "    img = cv2.imread(image_path)\n",
        "\n",
        "    # Convierte la imagen a escala de grises\n",
        "    gray = cv2.cvtColor(img, cv2.COLOR_BGR2GRAY)\n",
        "\n",
        "    # Aplica un desenfoque para suavizar la imagen y facilitar la detección de bordes\n",
        "    blurred = cv2.GaussianBlur(gray, (5, 5), 0)\n",
        "\n",
        "    # Detecta los bordes utilizando el operador Canny\n",
        "    edges = cv2.Canny(blurred, 50, 150)\n",
        "\n",
        "    # Encuentra contornos en la imagen\n",
        "    contours, _ = cv2.findContours(edges, cv2.RETR_EXTERNAL, cv2.CHAIN_APPROX_SIMPLE)\n",
        "\n",
        "    # Encuentra el contorno más grande, asumiendo que es la prenda\n",
        "    largest_contour = max(contours, key=cv2.contourArea)\n",
        "\n",
        "    # Crea una máscara para el contorno\n",
        "    mask = np.zeros_like(gray)\n",
        "    cv2.drawContours(mask, [largest_contour], 0, (255), thickness=cv2.FILLED)\n",
        "\n",
        "    # Extrae el área del contorno de la imagen original\n",
        "    result = cv2.bitwise_and(img, img, mask=mask)\n",
        "\n",
        "    # Obtiene el color dominante de la imagen resultante\n",
        "    color_thief = ColorThief(image_path)\n",
        "    dominant_color = color_thief.get_color(quality=1)\n",
        "\n",
        "    return dominant_color\n",
        "\n",
        "image_path = \"gabardina.webp\"\n",
        "contour_color = get_contour_color(image_path)\n",
        "print(\"Color del contorno de la prenda:\", contour_color)"
      ]
    }
  ]
}